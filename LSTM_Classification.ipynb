{
 "cells": [
  {
   "cell_type": "markdown",
   "metadata": {},
   "source": [
    "# Question 2. Data Classification with LSTM"
   ]
  },
  {
   "cell_type": "code",
   "execution_count": 1,
   "metadata": {
    "colab": {},
    "colab_type": "code",
    "id": "dIPtAYc6oSSi"
   },
   "outputs": [],
   "source": [
    "import torch\n",
    "import torch.autograd as autograd\n",
    "import torch.nn as nn\n",
    "import torch.nn.functional as F\n",
    "import torch.optim as optim\n",
    "import os\n",
    "from sklearn.preprocessing import LabelEncoder\n",
    "import pandas as pd\n",
    "import numpy as np\n",
    "import matplotlib.pyplot as plt\n",
    "import random\n",
    "import time\n",
    "import torch.utils.data as data_utils\n",
    "from torch.utils.data.dataset import Dataset"
   ]
  },
  {
   "cell_type": "markdown",
   "metadata": {
    "colab_type": "text",
    "id": "vVKsy__C32wd"
   },
   "source": [
    "#1 Load and Preprocess the Dataset"
   ]
  },
  {
   "cell_type": "code",
   "execution_count": 2,
   "metadata": {
    "colab": {},
    "colab_type": "code",
    "id": "h1bUiE1o8OAT"
   },
   "outputs": [],
   "source": [
    "#****2a******: Loading the dataset\n",
    "train = pd.read_excel('Train_q2.xlsx')\n",
    "test = pd.read_excel('Test_q2.xlsx')"
   ]
  },
  {
   "cell_type": "code",
   "execution_count": 3,
   "metadata": {},
   "outputs": [],
   "source": [
    "#****2a******Add code here: Filter out labels 3,5,6 \n",
    "def preProcess(matrix):\n",
    "    m=len(matrix)\n",
    "    n=len(matrix[0])\n",
    "    X=[]\n",
    "    Y=[]\n",
    "    for i in range(m):\n",
    "        label = int(matrix[i][-1])\n",
    "        if label==1:      \n",
    "            X.append(matrix[i][:-1])\n",
    "            Y.append(matrix[i][-1]-1)\n",
    "        elif label==2:      \n",
    "            X.append(matrix[i][:-1])\n",
    "            Y.append(matrix[i][-1]-1)\n",
    "        elif label==4:      \n",
    "            X.append(matrix[i][:-1])\n",
    "            Y.append(matrix[i][-1]-2)\n",
    "    return X,Y"
   ]
  },
  {
   "cell_type": "code",
   "execution_count": 4,
   "metadata": {},
   "outputs": [],
   "source": [
    "np_train=np.array(train)\n",
    "py_train=np_train.tolist()\n",
    "X,y=preProcess(py_train)\n",
    "\n",
    "np_X=np.array(X)\n",
    "X=pd.DataFrame(np_X)\n",
    "np_y=np.array(y)\n",
    "y=pd.DataFrame(np_y)\n",
    "\n",
    "np_test=np.array(test)\n",
    "py_test=np_test.tolist()\n",
    "X_test,y_test=preProcess(py_test)\n",
    "\n",
    "np_X_test=np.array(X_test)\n",
    "X_test=pd.DataFrame(np_X_test)\n",
    "np_y_test=np.array(y_test)\n",
    "y_test=pd.DataFrame(np_y_test)"
   ]
  },
  {
   "cell_type": "code",
   "execution_count": 5,
   "metadata": {
    "colab": {},
    "colab_type": "code",
    "id": "PXv_Dt4uBS4c"
   },
   "outputs": [],
   "source": [
    "X = X.to_numpy()\n",
    "X_test = X_test.to_numpy()\n",
    "y = y.to_numpy()\n",
    "y_test = y_test.to_numpy()\n",
    "\n",
    "X_train = torch.from_numpy(X).type(torch.Tensor)   #shape (Batch_size, Sequence_len)\n",
    "X_test = torch.from_numpy(X_test).type(torch.Tensor) #shape (Batch_size, Sequence_len)\n",
    "y_train = torch.from_numpy(y).type(torch.Tensor).view(-1, 1) % 6  #(Batch_size, 1)\n",
    "y_test = torch.from_numpy(y_test).type(torch.Tensor).view(-1, 1) % 6 #(Batch_size, 1)"
   ]
  },
  {
   "cell_type": "code",
   "execution_count": 6,
   "metadata": {
    "colab": {},
    "colab_type": "code",
    "id": "bxF0zoJ7-daz"
   },
   "outputs": [],
   "source": [
    "# device = torch.device(\"cuda\" if torch.cuda.is_available() else \"cpu\")"
   ]
  },
  {
   "cell_type": "code",
   "execution_count": 7,
   "metadata": {},
   "outputs": [],
   "source": [
    "class Model(nn.Module):\n",
    "        def __init__(self,input_size=561,hidden_size=50,batch_size=1,output_size=3,num_layers=1):\n",
    "            super(Model, self).__init__()\n",
    "            #561=3*11*17\n",
    "            self.hidden_size = hidden_size\n",
    "            self.lstm = nn.LSTM(input_size, hidden_size, num_layers, batch_first=True)\n",
    "            self.fc = nn.Linear(hidden_size, output_size)\n",
    "        \n",
    "        def forward(self, x, hidden):\n",
    "            #****2b******Add code here \n",
    "            batch_size=1\n",
    "            lstm_out, (h,c) = self.lstm(x,hidden)\n",
    "            lstm_out=lstm_out.view(-1,self.hidden_size)\n",
    "            model_output=self.fc(lstm_out)\n",
    "            model_output=F.softmax(model_output,dim=1)\n",
    "            return model_output, (h,c)\n"
   ]
  },
  {
   "cell_type": "markdown",
   "metadata": {
    "colab_type": "text",
    "id": "klbsMNoPvt1D"
   },
   "source": [
    "# The LSTM Model"
   ]
  },
  {
   "cell_type": "code",
   "execution_count": 8,
   "metadata": {
    "colab": {},
    "colab_type": "code",
    "id": "g7V_zutNBlwG"
   },
   "outputs": [],
   "source": [
    "batch_size = 1"
   ]
  },
  {
   "cell_type": "markdown",
   "metadata": {
    "colab_type": "text",
    "id": "hVT88ixmvwoV"
   },
   "source": [
    "# Load the Data into Dataloader"
   ]
  },
  {
   "cell_type": "code",
   "execution_count": 9,
   "metadata": {
    "colab": {},
    "colab_type": "code",
    "id": "30IWYaj8-se0"
   },
   "outputs": [],
   "source": [
    "import torch\n",
    "from torch.autograd import Variable\n",
    "from torch.nn import Linear, ReLU, CrossEntropyLoss, Sequential, Conv2d, MaxPool2d, Module, Softmax, BatchNorm2d, Dropout\n",
    "from torch.optim import Adam, SGD\n",
    "\n",
    "class myloader(Dataset):\n",
    "    def __init__(self,data,label):\n",
    "        self.data=data\n",
    "        self.label=label\n",
    "    \n",
    "    def __getitem__(self,index):\n",
    "        mylabel=self.label[index]\n",
    "        mydata=self.data[index]\n",
    "        return mydata,mylabel\n",
    "    \n",
    "    def __len__(self):\n",
    "        return len(self.data)\n",
    "    \n",
    "train_data=myloader(X_train,y_train)\n",
    "test_data=myloader(X_test,y_test)\n",
    "train_loader=torch.utils.data.DataLoader(train_data,batch_size=batch_size,shuffle=True)\n",
    "test_loader=torch.utils.data.DataLoader(test_data,batch_size=batch_size,shuffle=True)"
   ]
  },
  {
   "cell_type": "code",
   "execution_count": 10,
   "metadata": {},
   "outputs": [
    {
     "name": "stdout",
     "output_type": "stream",
     "text": [
      "Model(\n",
      "  (lstm): LSTM(561, 50, batch_first=True)\n",
      "  (fc): Linear(in_features=50, out_features=3, bias=True)\n",
      ")\n"
     ]
    }
   ],
   "source": [
    "model = Model()\n",
    "# model = model.to(device)\n",
    "# model=model.double()\n",
    "criterion = nn.CrossEntropyLoss()\n",
    "optimizer = torch.optim.Adam(model.parameters(), lr=0.01)\n",
    "print(model)"
   ]
  },
  {
   "cell_type": "code",
   "execution_count": 11,
   "metadata": {},
   "outputs": [],
   "source": [
    "loss_list=[]\n",
    "n_epochs =200\n",
    "\n",
    "train_losses = []\n",
    "\n",
    "for epoch in range(n_epochs):\n",
    "    model.train()\n",
    "    \n",
    "    #the first 1 is the batch_size, 1*1*561 should be the output of X_train.view(1,-1,561)\n",
    "    x=X_train.view(1,-1,561)\n",
    "    prediction,(h,c)=model(x,None) \n",
    "    \n",
    "    # computing the training loss\n",
    "    #3585 is the number of data we should process\n",
    "    actual = y_train.view(3585)\n",
    "    actual = actual.type(torch.long)\n",
    "\n",
    "    loss_train = criterion(prediction, actual)\n",
    "    train_losses.append(loss_train)\n",
    "    #tr_loss.append(loss_train.item())\n",
    "\n",
    "    # clearing the Gradients of the model parameters\n",
    "    optimizer.zero_grad()\n",
    "\n",
    "    # computing the updated weights of all the model parameters\n",
    "    loss_train.backward()\n",
    "    optimizer.step()\n",
    "        "
   ]
  },
  {
   "cell_type": "markdown",
   "metadata": {
    "colab_type": "text",
    "id": "XktY3GXWuJhG"
   },
   "source": [
    "## Plot Training and Loss Plots"
   ]
  },
  {
   "cell_type": "code",
   "execution_count": 12,
   "metadata": {
    "colab": {
     "base_uri": "https://localhost:8080/",
     "height": 312
    },
    "colab_type": "code",
    "id": "uOWDSJpBDQWJ",
    "outputId": "ae1e3939-530a-4494-eb8a-ad5f111b99ae"
   },
   "outputs": [
    {
     "data": {
      "text/plain": [
       "Text(0, 0.5, 'Loss Value')"
      ]
     },
     "execution_count": 12,
     "metadata": {},
     "output_type": "execute_result"
    },
    {
     "data": {
      "image/png": "[encoded data removed]",
      "text/plain": [
       "<Figure size 432x288 with 1 Axes>"
      ]
     },
     "metadata": {
      "needs_background": "light"
     },
     "output_type": "display_data"
    }
   ],
   "source": [
    "#****2d****** Plot the training losses or accuracies, this has been done for you below\n",
    "plt.plot(train_losses)\n",
    "plt.title('Train Loss Plot')\n",
    "plt.xlabel('Number of Epochs')\n",
    "plt.ylabel('Loss Value')"
   ]
  },
  {
   "cell_type": "code",
   "execution_count": 13,
   "metadata": {},
   "outputs": [
    {
     "data": {
      "text/plain": [
       "0.9938271604938271"
      ]
     },
     "execution_count": 13,
     "metadata": {},
     "output_type": "execute_result"
    }
   ],
   "source": [
    "from sklearn.metrics import accuracy_score\n",
    "\n",
    "with torch.no_grad():\n",
    "    output,(h,c) = model(X_test.view(1,-1,561),None)\n",
    "    \n",
    "softmax = torch.exp(output).cpu()\n",
    "prob = list(softmax.numpy())\n",
    "pred = np.argmax(prob, axis=1)\n",
    "label=list(np_y_test.astype(int))\n",
    "\n",
    "# for val in predictions:\n",
    "#     print(val,end='')\n",
    "\n",
    "# accuracy on training set\n",
    "accuracy_score(pred,label)"
   ]
  },
  {
   "cell_type": "markdown",
   "metadata": {
    "colab_type": "text",
    "id": "opxuQmyTuFqH"
   },
   "source": [
    "#Calculate the test performance"
   ]
  },
  {
   "cell_type": "code",
   "execution_count": 14,
   "metadata": {
    "colab": {},
    "colab_type": "code",
    "id": "u7nnfnmooCld"
   },
   "outputs": [
    {
     "name": "stdout",
     "output_type": "stream",
     "text": [
      "[[490, 6, 0], [1, 470, 0], [0, 2, 489]]\n"
     ]
    }
   ],
   "source": [
    "# for val in pred:\n",
    "#     print(val,end='')\n",
    "# print()\n",
    "# for ele in label:\n",
    "#     print(ele,end='')\n",
    "confusion_matrix=[[0]*3 for _ in range(3)]\n",
    "\n",
    "for i in range(len(pred)):\n",
    "    confusion_matrix[label[i]][pred[i]]+=1\n",
    "\n",
    "print(confusion_matrix)"
   ]
  },
  {
   "cell_type": "code",
   "execution_count": null,
   "metadata": {},
   "outputs": [],
   "source": []
  }
 ],
 "metadata": {
  "accelerator": "GPU",
  "colab": {
   "collapsed_sections": [],
   "name": "PyTorch_LSTM_Classifcation.ipynb",
   "provenance": [],
   "toc_visible": true
  },
  "kernelspec": {
   "display_name": "Python 3",
   "language": "python",
   "name": "python3"
  },
  "language_info": {
   "codemirror_mode": {
    "name": "ipython",
    "version": 3
   },
   "file_extension": ".py",
   "mimetype": "text/x-python",
   "name": "python",
   "nbconvert_exporter": "python",
   "pygments_lexer": "ipython3",
   "version": "3.7.3"
  }
 },
 "nbformat": 4,
 "nbformat_minor": 4
}
