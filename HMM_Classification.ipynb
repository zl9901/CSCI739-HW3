{
 "cells": [
  {
   "cell_type": "markdown",
   "metadata": {},
   "source": [
    "# Question 1. Data Classification with HMM\n"
   ]
  },
  {
   "cell_type": "code",
   "execution_count": 1,
   "metadata": {
    "colab": {},
    "colab_type": "code",
    "id": "hMB2e5NuFNfL"
   },
   "outputs": [],
   "source": [
    "import numpy as np\n",
    "import pandas as pd\n",
    "from pomegranate import *\n",
    "\n",
    "import torch\n",
    "import torch.autograd as autograd\n",
    "import torch.nn as nn\n",
    "import torch.nn.functional as F\n",
    "import torch.optim as optim\n",
    "import os\n",
    "from sklearn.preprocessing import LabelEncoder\n",
    "import pandas as pd\n",
    "import matplotlib.pyplot as plt\n",
    "import random\n",
    "import time\n",
    "import torch.utils.data as data_utils"
   ]
  },
  {
   "cell_type": "markdown",
   "metadata": {
    "colab_type": "text",
    "id": "wvEa1TIjGB3M"
   },
   "source": [
    "Read the entire data set\n",
    "The dataset is obtained from: [Human Activity Recognition](https://archive.ics.uci.edu/ml/datasets/human+activity+recognition+using+smartphones).\n",
    "> It originally consists of 6 different activities: WALKING, WALKING_UPSTAIRS, WALKING_DOWNSTAIRS, SITTING, STANDING, LAYING.\n",
    "> For this assignment we are considering only three activities: WALKING, WALKING_UPSTAIRS, and SITTING.\n"
   ]
  },
  {
   "cell_type": "code",
   "execution_count": 2,
   "metadata": {
    "colab": {},
    "colab_type": "code",
    "id": "IyHfYp-yF4eQ"
   },
   "outputs": [],
   "source": [
    "#****1b******: Code is added to read the training and test data\n",
    "train = pd.read_excel('Train_q2.xlsx')\n",
    "test = pd.read_excel('Test_q2.xlsx')"
   ]
  },
  {
   "cell_type": "markdown",
   "metadata": {
    "colab_type": "text",
    "id": "UgBq1pS-J8cD"
   },
   "source": [
    "#1b. Create dataframes for each class label\n",
    "\n",
    "> Note the labels are: 1, 2 and 4."
   ]
  },
  {
   "cell_type": "code",
   "execution_count": 3,
   "metadata": {
    "colab": {},
    "colab_type": "code",
    "id": "ztEOB3PpJ5Oj"
   },
   "outputs": [
    {
     "name": "stdout",
     "output_type": "stream",
     "text": [
      "(1226, 561)\n",
      "(1073, 561)\n",
      "(1286, 561)\n"
     ]
    }
   ],
   "source": [
    "#****1b******Add code here: Create frames for the 3 labels\n",
    "import collections\n",
    "def preProcess(matrix):\n",
    "    # 2947*562\n",
    "    m=len(matrix)\n",
    "    n=len(matrix[0])\n",
    "    one=[]\n",
    "    two=[]\n",
    "    three=[]\n",
    "    \n",
    "    for i in range(m):\n",
    "        label = int(matrix[i][-1])\n",
    "        if label==1:      #1=walking; 2=walking_downstairs; 4=sitting\n",
    "            one.append(matrix[i][:-1])\n",
    "        elif label==2:\n",
    "            two.append(matrix[i][:-1])\n",
    "        elif label==4:\n",
    "            three.append(matrix[i][:-1])\n",
    "#                 Y.append(abs(y-4))  #we want to store 1 for happy, 0 for sad\n",
    "#                 X.append([int(p) for p in row[1].split()])\n",
    "    return one,two,three\n",
    "#     since all the values are between 0 and 1, normalization is needless\n",
    "#     return np.array(X) / 255.0, np.array(Y)\n",
    "\n",
    "np_train=np.array(train)\n",
    "py_train=np_train.tolist()\n",
    "one,two,three=preProcess(py_train)\n",
    "\n",
    "np_one=np.array(one)\n",
    "train_one=pd.DataFrame(np_one)\n",
    "print(train_one.shape)\n",
    "\n",
    "np_two=np.array(two)\n",
    "train_two=pd.DataFrame(np_two)\n",
    "print(train_two.shape)\n",
    "\n",
    "np_three=np.array(three)\n",
    "train_three=pd.DataFrame(np_three)\n",
    "print(train_three.shape)\n"
   ]
  },
  {
   "cell_type": "markdown",
   "metadata": {
    "colab_type": "text",
    "id": "TwhchGZyKbXY"
   },
   "source": [
    "Drop the 'label' column"
   ]
  },
  {
   "cell_type": "code",
   "execution_count": 4,
   "metadata": {
    "colab": {},
    "colab_type": "code",
    "id": "5vfW170cKauF"
   },
   "outputs": [],
   "source": [
    "#****1b******Add code here: Drop the labels for your 3 dataframes\n",
    "# X = train.loc[:, train.columns != 'label']\n",
    "# X_test = test.loc[:, test.columns != 'label']\n",
    "# y = train[['label']]\n",
    "# y_test = test[['label']]"
   ]
  },
  {
   "cell_type": "markdown",
   "metadata": {
    "colab_type": "text",
    "id": "Ip1M151LMJRg"
   },
   "source": [
    "Convert the dataframes to numpy arrays"
   ]
  },
  {
   "cell_type": "code",
   "execution_count": 5,
   "metadata": {
    "colab": {},
    "colab_type": "code",
    "id": "xz0VjsTwMIhK"
   },
   "outputs": [],
   "source": [
    "#****1b******Add code here: Convert the frames to numpy arrays\n",
    "final_one=np.array(train_one)\n",
    "final_two=np.array(train_two)\n",
    "final_three=np.array(train_three)"
   ]
  },
  {
   "cell_type": "markdown",
   "metadata": {
    "colab_type": "text",
    "id": "W9G1r9PGMgwI"
   },
   "source": [
    "#1c. Create HMM models for each class\n",
    "We are using the baum-welch algorithm to find the parameters of the model."
   ]
  },
  {
   "cell_type": "code",
   "execution_count": 6,
   "metadata": {
    "colab": {},
    "colab_type": "code",
    "id": "2K7r8GrqJk8m"
   },
   "outputs": [],
   "source": [
    "#****1c******Add code here: learn the parameters of 3 different HMMs\n",
    "model1=HiddenMarkovModel.from_samples(NormalDistribution, n_components=3, X=final_one)\n",
    "model2=HiddenMarkovModel.from_samples(NormalDistribution, n_components=3, X=final_two)\n",
    "model3=HiddenMarkovModel.from_samples(NormalDistribution, n_components=3, X=final_three)"
   ]
  },
  {
   "cell_type": "markdown",
   "metadata": {
    "colab_type": "text",
    "id": "ROJnPkppNCqZ"
   },
   "source": [
    "#1d. Check Performance of the Models\n",
    "\n",
    "For each test sample we will get the log_probabilities of the sample belonging to each of the three classes.\n",
    "\n",
    "We will assign the sample to the model which gives the highest log_probability value"
   ]
  },
  {
   "cell_type": "code",
   "execution_count": 9,
   "metadata": {
    "colab": {},
    "colab_type": "code",
    "id": "3tIaxS7-Mtp1"
   },
   "outputs": [],
   "source": [
    "def get_model_accuracy(df, class_no):\n",
    "#****1d******Add code here: \n",
    "    '''\n",
    "    Accepts the numpy array belonging to a class and the class label which we want to\n",
    "    use to test our accurracy.\n",
    "    '''\n",
    "    cnt=[[0]*3 for _ in range(3)]\n",
    "    for i in range(len(df)):\n",
    "        one=model1.log_probability(df[i])\n",
    "        two=model2.log_probability(df[i])\n",
    "        three=model3.log_probability(df[i])\n",
    "        target=-1\n",
    "        if int(class_no[i])==1:\n",
    "            target=0\n",
    "        elif int(class_no[i])==2:\n",
    "            target=1\n",
    "        else:\n",
    "            target=2\n",
    "            \n",
    "        if one>=max(two,three):\n",
    "            judge=0\n",
    "            cnt[target][judge]+=1\n",
    "        elif two>=max(one,three):\n",
    "            judge=1\n",
    "            cnt[target][judge]+=1\n",
    "        elif three>=max(one,two):\n",
    "            judge=2\n",
    "            cnt[target][judge]+=1\n",
    "    return cnt\n",
    "\n",
    "np_test=np.array(test)\n",
    "py_test=np_test.tolist()\n",
    "\n",
    "df=[]\n",
    "class_no=[]\n",
    "for i in range(len(py_test)):\n",
    "    if py_test[i][-1]==1 or py_test[i][-1]==2 or py_test[i][-1]==4:\n",
    "        df.append(py_test[i][:-1])\n",
    "        class_no.append(py_test[i][-1])\n",
    "    \n",
    "df=np.array(df)\n",
    "class_no=np.array(class_no)\n",
    "\n",
    "cnt=get_model_accuracy(df,class_no)"
   ]
  },
  {
   "cell_type": "code",
   "execution_count": 10,
   "metadata": {
    "colab": {
     "base_uri": "https://localhost:8080/",
     "height": 70
    },
    "colab_type": "code",
    "id": "_8x3tUS9N-vH",
    "outputId": "45b39af0-12c5-4faf-c221-aeee83532888"
   },
   "outputs": [
    {
     "name": "stdout",
     "output_type": "stream",
     "text": [
      "[[299, 197, 0], [177, 294, 0], [0, 43, 448]]\n"
     ]
    }
   ],
   "source": [
    "#****1e******Add code here: Generate the confusion matrix\n",
    "print(cnt)"
   ]
  },
  {
   "cell_type": "code",
   "execution_count": null,
   "metadata": {
    "colab": {},
    "colab_type": "code",
    "id": "vTF7tfgKOyDr"
   },
   "outputs": [],
   "source": []
  }
 ],
 "metadata": {
  "colab": {
   "name": "HMM_Classification.ipynb",
   "provenance": []
  },
  "kernelspec": {
   "display_name": "Python 3",
   "language": "python",
   "name": "python3"
  },
  "language_info": {
   "codemirror_mode": {
    "name": "ipython",
    "version": 3
   },
   "file_extension": ".py",
   "mimetype": "text/x-python",
   "name": "python",
   "nbconvert_exporter": "python",
   "pygments_lexer": "ipython3",
   "version": "3.7.3"
  }
 },
 "nbformat": 4,
 "nbformat_minor": 4
}
